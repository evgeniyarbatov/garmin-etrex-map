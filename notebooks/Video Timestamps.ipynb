{
 "cells": [
  {
   "cell_type": "code",
   "execution_count": 4,
   "id": "3731e66b",
   "metadata": {},
   "outputs": [],
   "source": [
    "import json"
   ]
  },
  {
   "cell_type": "code",
   "execution_count": 5,
   "id": "62fff67e",
   "metadata": {},
   "outputs": [],
   "source": [
    "def load_data(file_path):\n",
    "    with open(file_path, 'r') as file:\n",
    "        return json.load(file)"
   ]
  },
  {
   "cell_type": "code",
   "execution_count": 6,
   "id": "48044c70",
   "metadata": {},
   "outputs": [],
   "source": [
    "def seconds_to_hms(seconds):\n",
    "    h = seconds // 3600\n",
    "    m = (seconds % 3600) // 60\n",
    "    s = seconds % 60\n",
    "    return f\"{int(h):02}:{int(m):02}:{int(s):02}\""
   ]
  },
  {
   "cell_type": "code",
   "execution_count": 8,
   "id": "3ee03e77",
   "metadata": {},
   "outputs": [],
   "source": [
    "frame_rate = 1/3  # frames per second\n",
    "frame_interval = int(1 / frame_rate)  # seconds per frame"
   ]
  },
  {
   "cell_type": "code",
   "execution_count": 7,
   "id": "5807fbf4",
   "metadata": {},
   "outputs": [],
   "source": [
    "data = load_data('../tests/data.json')"
   ]
  },
  {
   "cell_type": "code",
   "execution_count": 25,
   "id": "81d9cf2c",
   "metadata": {},
   "outputs": [
    {
     "name": "stdout",
     "output_type": "stream",
     "text": [
      "00:00:00 - 0km\n",
      "00:00:30 - 5.53km\n",
      "00:01:00 - 10.51km\n",
      "00:01:30 - 15.62km\n",
      "00:02:00 - 21.05km\n",
      "00:02:30 - 26.2km\n",
      "00:03:00 - 31.05km\n",
      "00:03:30 - 36.08km\n",
      "00:04:00 - 41.02km\n",
      "00:04:30 - 46.04km\n",
      "00:05:00 - 51.16km\n",
      "00:05:30 - 56.06km\n",
      "00:06:00 - 61.0km\n",
      "00:06:30 - 66.03km\n",
      "00:07:00 - 71.04km\n",
      "00:07:30 - 76.02km\n",
      "00:08:00 - 81.1km\n",
      "00:08:30 - 86.0km\n",
      "00:09:00 - 91.0km\n",
      "00:09:30 - 96.24km\n",
      "00:10:00 - 101.04km\n",
      "00:10:30 - 106.01km\n",
      "00:11:00 - 111.0km\n",
      "00:11:30 - 116.01km\n",
      "00:12:00 - 121.02km\n",
      "00:12:30 - 126.03km\n",
      "00:13:00 - 131.02km\n",
      "00:13:30 - 136.01km\n",
      "00:14:00 - 141.51km\n",
      "00:14:30 - 146.51km\n",
      "00:15:00 - 151.52km\n",
      "00:15:30 - 156.51km\n",
      "00:16:00 - 161.53km\n",
      "00:16:30 - 166.74km\n",
      "00:17:00 - 171.5km\n",
      "00:17:30 - 176.55km\n",
      "00:18:00 - 181.53km\n",
      "00:18:30 - 186.5km\n",
      "00:19:00 - 191.52km\n",
      "00:19:30 - 196.51km\n",
      "00:20:00 - 201.5km\n",
      "00:20:30 - 206.51km\n",
      "00:21:00 - 211.54km\n",
      "00:21:30 - 216.51km\n",
      "00:22:00 - 221.56km\n",
      "00:22:30 - 226.55km\n",
      "00:23:00 - 231.52km\n",
      "00:23:30 - 236.5km\n",
      "00:24:00 - 241.51km\n",
      "00:24:30 - 246.51km\n",
      "00:25:00 - 251.5km\n",
      "00:25:30 - 256.51km\n",
      "00:26:00 - 261.51km\n",
      "00:26:30 - 266.61km\n",
      "00:27:00 - 271.51km\n",
      "00:27:30 - 276.5km\n",
      "00:28:00 - 281.58km\n",
      "00:28:30 - 286.59km\n",
      "00:29:00 - 291.51km\n",
      "00:29:30 - 296.51km\n",
      "00:30:00 - 301.51km\n",
      "00:30:30 - 306.5km\n",
      "00:31:00 - 311.57km\n",
      "00:31:30 - 316.52km\n",
      "00:32:00 - 321.5km\n"
     ]
    }
   ],
   "source": [
    "for i, entry in enumerate(data):\n",
    "    timestamp = seconds_to_hms(i * frame_interval)\n",
    "    if i == 0:\n",
    "        print(f\"{timestamp} - 0km\")\n",
    "    elif i % 10 == 0:\n",
    "        print(f\"{timestamp} - {entry['distance']}km\")"
   ]
  },
  {
   "cell_type": "code",
   "execution_count": null,
   "id": "56108b8f",
   "metadata": {},
   "outputs": [],
   "source": []
  }
 ],
 "metadata": {
  "kernelspec": {
   "display_name": "Python 3 (ipykernel)",
   "language": "python",
   "name": "python3"
  },
  "language_info": {
   "codemirror_mode": {
    "name": "ipython",
    "version": 3
   },
   "file_extension": ".py",
   "mimetype": "text/x-python",
   "name": "python",
   "nbconvert_exporter": "python",
   "pygments_lexer": "ipython3",
   "version": "3.11.9"
  }
 },
 "nbformat": 4,
 "nbformat_minor": 5
}
