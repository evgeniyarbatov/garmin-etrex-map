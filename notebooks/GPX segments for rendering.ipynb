{
 "cells": [
  {
   "cell_type": "code",
   "execution_count": 2,
   "id": "33c31571",
   "metadata": {},
   "outputs": [],
   "source": [
    "import gpxpy\n",
    "import json\n",
    "\n",
    "from pyproj import Geod\n",
    "\n",
    "import pandas as pd\n",
    "from geopy.distance import geodesic"
   ]
  },
  {
   "cell_type": "code",
   "execution_count": 20,
   "id": "bbec0ac7-c9b5-4cde-ba7e-ada393f16f8d",
   "metadata": {},
   "outputs": [],
   "source": [
    "def get_gpx_df(gpx_file):\n",
    "    with open(gpx_file, 'r') as file:\n",
    "        gpx = gpxpy.parse(file)\n",
    "\n",
    "    data = []\n",
    "    for track in gpx.tracks:\n",
    "        for segment in track.segments:\n",
    "            for point in segment.points:\n",
    "                data.append({\n",
    "                    'latitude': point.latitude,\n",
    "                    'longitude': point.longitude,\n",
    "                })\n",
    "\n",
    "    df = pd.DataFrame(data)\n",
    "\n",
    "    df['prev_latitude'] = df['latitude'].shift(1)\n",
    "    df['prev_longitude'] = df['longitude'].shift(1)\n",
    "    \n",
    "    df['distance'] = df.apply(lambda x: geodesic((x['prev_latitude'], x['prev_longitude']), (x['latitude'], x['longitude'])).meters if not pd.isna(x['prev_latitude']) and not pd.isna(x['prev_longitude']) else 0, axis=1)\n",
    "    df['accumulated_distance'] = df['distance'].cumsum()\n",
    "\n",
    "    df = df.drop(columns=[\n",
    "        'prev_latitude', \n",
    "        'prev_longitude',\n",
    "        'distance'\n",
    "    ])\n",
    "    \n",
    "    df.rename(columns={'accumulated_distance': 'distance'}, inplace=True)\n",
    "    \n",
    "    return df"
   ]
  },
  {
   "cell_type": "code",
   "execution_count": 21,
   "id": "34340659",
   "metadata": {},
   "outputs": [
    {
     "data": {
      "text/html": [
       "<div>\n",
       "<style scoped>\n",
       "    .dataframe tbody tr th:only-of-type {\n",
       "        vertical-align: middle;\n",
       "    }\n",
       "\n",
       "    .dataframe tbody tr th {\n",
       "        vertical-align: top;\n",
       "    }\n",
       "\n",
       "    .dataframe thead th {\n",
       "        text-align: right;\n",
       "    }\n",
       "</style>\n",
       "<table border=\"1\" class=\"dataframe\">\n",
       "  <thead>\n",
       "    <tr style=\"text-align: right;\">\n",
       "      <th></th>\n",
       "      <th>latitude</th>\n",
       "      <th>longitude</th>\n",
       "      <th>distance</th>\n",
       "    </tr>\n",
       "  </thead>\n",
       "  <tbody>\n",
       "    <tr>\n",
       "      <th>0</th>\n",
       "      <td>1.34228</td>\n",
       "      <td>103.83519</td>\n",
       "      <td>0.000000</td>\n",
       "    </tr>\n",
       "    <tr>\n",
       "      <th>1</th>\n",
       "      <td>1.34265</td>\n",
       "      <td>103.83574</td>\n",
       "      <td>73.616069</td>\n",
       "    </tr>\n",
       "    <tr>\n",
       "      <th>2</th>\n",
       "      <td>1.34276</td>\n",
       "      <td>103.83592</td>\n",
       "      <td>97.054093</td>\n",
       "    </tr>\n",
       "  </tbody>\n",
       "</table>\n",
       "</div>"
      ],
      "text/plain": [
       "   latitude  longitude   distance\n",
       "0   1.34228  103.83519   0.000000\n",
       "1   1.34265  103.83574  73.616069\n",
       "2   1.34276  103.83592  97.054093"
      ]
     },
     "execution_count": 21,
     "metadata": {},
     "output_type": "execute_result"
    }
   ],
   "source": [
    "df = get_gpx_df('../public/track.gpx')\n",
    "df.head(3)"
   ]
  },
  {
   "cell_type": "code",
   "execution_count": 29,
   "id": "71ca4d57",
   "metadata": {},
   "outputs": [],
   "source": [
    "def get_segment_info(segment):\n",
    "    mid = len(segment) // 2\n",
    "    \n",
    "    geod = Geod(ellps='WGS84')\n",
    "    fwd_azimuth, _, _ = geod.inv(\n",
    "        segment[0][1], \n",
    "        segment[0][0], \n",
    "        segment[mid][1], \n",
    "        segment[mid][0]\n",
    "    )\n",
    "\n",
    "    return segment[mid][0], segment[mid][1], fwd_azimuth\n",
    "\n",
    "segments, current_segment = [], []\n",
    "distance, distance_counter = 0, 0\n",
    "sampling_interval_meters = 1000.0\n",
    "\n",
    "for i, row in df.iterrows():\n",
    "    current_segment.append((row['latitude'], row['longitude']))\n",
    "    current_distance_count = row['distance'] // sampling_interval_meters\n",
    "    \n",
    "    if current_distance_count > distance_counter:\n",
    "        distance = round(row['distance'] / 1000.0, 2)\n",
    "        segments.append((current_segment, distance))\n",
    "        \n",
    "        current_segment = []\n",
    "        distance_counter = current_distance_count\n",
    "\n",
    "if current_segment:\n",
    "    segments.append((current_segment, distance))\n",
    "\n",
    "points = [(get_segment_info(segment[0]), segment[1]) for segment in segments]\n",
    "\n",
    "data = []\n",
    "for ((lat, lon, fwd_azimuth), distance) in points:\n",
    "    data.append({\"name\": f\"{distance}km\", \"lat\": lat, \"lon\": lon, \"azimuth\": fwd_azimuth})  \n",
    "    \n",
    "with open('../tests/data.json', 'w') as f:\n",
    "    json.dump(data, f, indent=4)"
   ]
  },
  {
   "cell_type": "code",
   "execution_count": null,
   "id": "2bdf66cb",
   "metadata": {},
   "outputs": [],
   "source": []
  }
 ],
 "metadata": {
  "kernelspec": {
   "display_name": "Python 3 (ipykernel)",
   "language": "python",
   "name": "python3"
  },
  "language_info": {
   "codemirror_mode": {
    "name": "ipython",
    "version": 3
   },
   "file_extension": ".py",
   "mimetype": "text/x-python",
   "name": "python",
   "nbconvert_exporter": "python",
   "pygments_lexer": "ipython3",
   "version": "3.11.9"
  }
 },
 "nbformat": 4,
 "nbformat_minor": 5
}
